{
 "cells": [
  {
   "cell_type": "markdown",
   "metadata": {},
   "source": [
    "# Recursion\n",
    "\n",
    "This chapter will cover the basics of recursions.\n",
    "\n",
    "Let's import the necessary libraries for our code to run."
   ]
  },
  {
   "cell_type": "code",
   "execution_count": 1,
   "metadata": {},
   "outputs": [],
   "source": [
    "import java.util.*;"
   ]
  },
  {
   "cell_type": "markdown",
   "metadata": {},
   "source": [
    "## Section 1. The basics of Recursion\n",
    "\n",
    "The process in which a function (or method) calls itself is called recursion, and the corresponding function is called a recursive function. A good example of recursion is the Fibonacci Sequence. The Fibonacci sequence is a series of numbers, in which each number is the sum of the two numbers that precede it. As a result, the sequence goes: 0, 1, 1, 2, 3, 5, 8, 13, 21, 34, and so on. The mathematical equation describing it is:\n",
    "\n",
    "```\n",
    "fib(0) = 0\n",
    "fib(1) = 1\n",
    "fib(n) = fib(n-1) + fib(n-2)\n",
    "```\n",
    "\n",
    "Translating this to Java code, you will have:\n",
    "```\n",
    "public int fib(int n) {\n",
    "    if (n <= 0) {return 0;}\n",
    "    else if (n == 1) {return 1;}\n",
    "    else {\n",
    "        return fib(n-1) + fib(n-2);\n",
    "    }\n",
    "}\n",
    "```\n",
    "It is important to note that code always executes from top to bottom and from left to right. When part of the code can not finish its execution, it will not move to the other parts. For instance, when we want to calculate fib(5), the traced execution will be like a tree.\n",
    "\n",
    "<img src=\"images/fib.png\" alt=\"index\" width=\"500\"/>\n",
    "\n",
    "If you look at the second level, there are fib(4) and fib(3). fib(4), its children, grandchildren, and the entire subtree will be executed first. After that, the calculation of fib(3) will start.\n",
    "\n",
    "### Section 1.1 When do you need recursion?\n",
    "\n",
    "Most problems that can be solved using recursive solutions can also be solved using iterative solutions. Sometimes it can be difficult to think about how to proceed using iterations to solve certain problems, and it is typically a signal that recursions may be the right way to go.\n",
    "\n",
    "### Section 1.2 How do you use recursion?\n",
    "\n",
    "Most recursions follow the same template:\n",
    "\n",
    "```\n",
    "public dataType method(problem) {\n",
    "    if (problem is sufficiently simple) {\n",
    "        Directly solve the problem\n",
    "        Return the solution\n",
    "    } else {\n",
    "        Solve the problem a little bit until the subproblem with the same pattern emerges\n",
    "        Call the same method recursively\n",
    "    }\n",
    "}\n",
    "```\n",
    "\n",
    "For instance, let's try to solve the following problem using recursion:\n",
    "```\n",
    "Implement the power function pow. pow takes two parameters. The first parameter is the base, while the second is the power. You can safely assume that the power is bigger than or equal to 0.\n",
    "\n",
    "For example:\n",
    "\n",
    "*pow(3, 2) = 9 \n",
    "*pow(3, 3) = 27\n",
    "*pow(2, 5) = 32\n",
    "```\n",
    "\n",
    "The first thing we need to figure out is the base case - when the problem is sufficiently simple. The simplest case for power calculation is when the power is 0. When the power is 0, The result is always 1 no matter what the base is, so we have:\n",
    "\n",
    "```\n",
    "public int pow(int base, int power) {\n",
    "    if (power == 0) {\n",
    "        return 1;\n",
    "    } else {\n",
    "        // something\n",
    "    }\n",
    "}\n",
    "```\n",
    "For the other cases, we need to solve the problem a little bit until the subproblem with the same pattern emerges. Power calculation is essentially multiplying the same base number for as many times as power. Solving it bit by bit is just keep multiplying the same base number to the result, so taking one step to solve the problem just means doing the multiplication manually for one time. The remaining part will have exactly the same pattern but with a smaller power: *pow(base, power - 1)*. In summary, you can update your code to:\n",
    "```\n",
    "public int pow(int base, int power) {\n",
    "    if (power == 0) {\n",
    "        return 1;\n",
    "    } else {\n",
    "        return base * pow(base, power-1);\n",
    "    }\n",
    "}\n",
    "```\n",
    "\n",
    "The above code snippets are listed in the following code cell. You are welcome to try them out and change the parameter values, and you may need to comment out some lines to get a clear sense of the ones you want to study."
   ]
  },
  {
   "cell_type": "code",
   "execution_count": 2,
   "metadata": {},
   "outputs": [
    {
     "data": {
      "text/plain": [
       "21"
      ]
     },
     "execution_count": 2,
     "metadata": {},
     "output_type": "execute_result"
    }
   ],
   "source": [
    "// fib\n",
    "public int fib(int n) {\n",
    "    if (n <= 0) {return 0;}\n",
    "    else if (n == 1) {return 1;}\n",
    "    else {\n",
    "        return fib(n-1) + fib(n-2);\n",
    "    }\n",
    "}\n",
    "\n",
    "// sanity check\n",
    "fib(8)"
   ]
  },
  {
   "cell_type": "code",
   "execution_count": 3,
   "metadata": {},
   "outputs": [
    {
     "data": {
      "text/plain": [
       "32"
      ]
     },
     "execution_count": 3,
     "metadata": {},
     "output_type": "execute_result"
    }
   ],
   "source": [
    "// power method\n",
    "public int pow(int base, int power) {\n",
    "    if (power == 0) {\n",
    "        return 1;\n",
    "    } else {\n",
    "        return base * pow(base, power-1);\n",
    "    }\n",
    "}\n",
    "\n",
    "// sanity check\n",
    "pow(2, 5)"
   ]
  },
  {
   "cell_type": "markdown",
   "metadata": {},
   "source": [
    "Another instance of recursion is demonstrated in the following problem:\n",
    "\n",
    "```\n",
    "A robot vacuum cleaner is located at the top-left corner of a m x n grid (marked 'Start' in the diagram below).\n",
    "\n",
    "The cleaner can only move either down or right at any point in time. The cleaner is trying to reach the bottom-right corner of the grid (marked 'Finish' in the diagram below).\n",
    "\n",
    "How many possible unique paths are there?\n",
    "```\n",
    "\n",
    "The solution to this problem follows the same template:\n",
    "\n",
    "```\n",
    "// given index as i and j\n",
    "int uniquePaths(int i, int j) {\n",
    "      // base case\n",
    "      if (i == 0 || j == 0) {\n",
    "          return 1;\n",
    "      } else {\n",
    "          // recursive case\n",
    "          return uniquePaths(i-1,j) + uniquePaths(i, j-1);\n",
    "      }\n",
    "}\n",
    "```"
   ]
  },
  {
   "cell_type": "code",
   "execution_count": 4,
   "metadata": {},
   "outputs": [
    {
     "data": {
      "text/plain": [
       "10"
      ]
     },
     "execution_count": 4,
     "metadata": {},
     "output_type": "execute_result"
    }
   ],
   "source": [
    "// given index as i and j\n",
    "int uniquePaths(int i, int j) {\n",
    "      // base case\n",
    "      if (i == 0 || j == 0) {\n",
    "          return 1;\n",
    "      } else {\n",
    "          // recursive case\n",
    "          return uniquePaths(i-1,j) + uniquePaths(i, j-1);\n",
    "      }\n",
    "}\n",
    "\n",
    "// sanity check\n",
    "uniquePaths(3, 2);"
   ]
  },
  {
   "cell_type": "markdown",
   "metadata": {},
   "source": [
    "## Practices\n",
    "\n",
    "Based on the above content and knowledge covered in lectures, you should be able to solve the following listed problems. Please note that **you are strongly recommended to solve the problems by yourself first before you look at the provided solutions**."
   ]
  },
  {
   "cell_type": "markdown",
   "metadata": {},
   "source": [
    "#### Add digits\n",
    "\n",
    "Given a non-negative integer num, repeatedly add all its digits until the result has only one digit.\n",
    "\n",
    "For example:\n",
    "```\n",
    "Given num = 38, the process is like:\n",
    "3 + 8 = 11\n",
    "1 + 1 = 2\n",
    "Since 2 has only one digit, return it.\n",
    "```"
   ]
  },
  {
   "cell_type": "code",
   "execution_count": 5,
   "metadata": {},
   "outputs": [
    {
     "data": {
      "text/plain": [
       "2"
      ]
     },
     "execution_count": 5,
     "metadata": {},
     "output_type": "execute_result"
    }
   ],
   "source": [
    "public int addDigits(int num) {\n",
    "    int result = 0;\n",
    "    if (num < 10) return num;\n",
    "    else {\n",
    "        while (num >= 10) {\n",
    "            result += num % 10;\n",
    "            num = num / 10;\n",
    "        }\n",
    "        result += num;\n",
    "        return addDigits(result);\n",
    "    }\n",
    "}\n",
    "\n",
    "// sanity check\n",
    "addDigits(38);"
   ]
  },
  {
   "cell_type": "markdown",
   "metadata": {},
   "source": [
    "## Section 2. Backtracking\n",
    "\n",
    "Backtracking is a special type of recursion. When a problem seems seeking a solution that requires systematic searching among a set of possibilities, think about backtracking.\n",
    "\n",
    "The solutions to many backtracking problems follow the same template:\n",
    "```\n",
    "public void search(a scenario) {\n",
    "  if (this is a solution) {\n",
    "    report it;\n",
    "  } else if (this is not a dead-end) {\n",
    "    call search recursively on available choices;\n",
    "  }\n",
    "}\n",
    "```\n",
    "\n",
    "A good example of backtracking problem is:\n",
    "\n",
    "```\n",
    "A robot is starting at position (0, 0) on a map with coordinates. The robot can only move:\n",
    "\n",
    "* North (N) for 1 step per time\n",
    "* East (E) for 1 step per time\n",
    "* Northeast (NE) for 1 step per time\n",
    "\n",
    "Given an arbitrary target position (x, y), print all paths for the robot to move from the start to the target positions.\n",
    "```\n",
    "\n",
    "The first and easiest challenge we should tackle is the scenario when we can confidently say that we have a solution. If somehow we can track the current location of the robot and then compare it to the target location. If we use (cx, cy) to stand for the current location, and (tx, ty) to stand for the target location, we can update the part of the template with real code:\n",
    "```\n",
    "public void search(a scenario) {\n",
    "  if (cx == tx && cy = ty) {\n",
    "    report it;\n",
    "  } else if (this is not a dead-end) {\n",
    "    call search recursively on available choices;\n",
    "  }\n",
    "}\n",
    "```\n",
    "To be able to report the results as required, we need storage to hold the results. We can use a String variable named \"path\" to achieve this. With the path variable, indexes standing for the current and target locations, we have five variables to stand for the dynamically changing scenario. We can continue to update the template to:\n",
    "```\n",
    "public void search(int cx, int cy, int tx, int ty, String path) {\n",
    "  if (cx == tx && cy == ty) {\n",
    "    System.out.println(path);\n",
    "  } else if (this is not a dead-end) {\n",
    "    call search recursively on available choices;\n",
    "  }\n",
    "}\n",
    "```\n",
    "The dead-end in this problem will mean that there is no way that we can go to the target location from the current location. To check if we can still go to the target location from the current location, we can compare the indexes of the current location to the target location again:\n",
    "```\n",
    "public void search(int cx, int cy, int tx, int ty, String path) {\n",
    "  if (cx == tx && cy == ty) {\n",
    "    System.out.println(path);\n",
    "  } else if (cx <= tx && cy <= ty) {\n",
    "    call search recursively on available choices;\n",
    "  }\n",
    "}\n",
    "```\n",
    "From the current location, there are three different ways to move forward, either north, east, or northeast. All the three ways will lead to an update of indexes of the current location:\n",
    "```\n",
    "public void search(int cx, int cy, int tx, int ty, String path) {\n",
    "  if (cx == tx && cy == ty) {\n",
    "    System.out.println(path);\n",
    "  } else if (cx <= tx && cy <= ty) {\n",
    "    search(cx, cy+1, tx, ty);\n",
    "    search(cx+1, cy, tx, ty);\n",
    "    search(cx+1, cy+1, tx, ty);\n",
    "  }\n",
    "}\n",
    "```\n",
    "We still need to update the path accordingly after we took a step forward, so we can keep track of the different paths:\n",
    "```\n",
    "public void search(int cx, int cy, int tx, int ty, String path) {\n",
    "  if (cx == tx && cy == ty) {\n",
    "    System.out.println(path);\n",
    "  } else if (cx <= tx && cy <= ty) {\n",
    "    search(cx, cy+1, tx, ty, path + \"N \");\n",
    "    search(cx+1, cy, tx, ty, path + \"E \");\n",
    "    search(cx+1, cy+1, tx, ty, path + \"NE \");\n",
    "  }\n",
    "}\n",
    "```"
   ]
  },
  {
   "cell_type": "code",
   "execution_count": 6,
   "metadata": {},
   "outputs": [
    {
     "name": "stdout",
     "output_type": "stream",
     "text": [
      "N N E E \n",
      "N E N E \n",
      "N E E N \n",
      "N E NE \n",
      "N NE E \n",
      "E N N E \n",
      "E N E N \n",
      "E N NE \n",
      "E E N N \n",
      "E NE N \n",
      "NE N E \n",
      "NE E N \n",
      "NE NE \n"
     ]
    }
   ],
   "source": [
    "public void search(int cx, int cy, int tx, int ty, String path) {\n",
    "  if (cx == tx && cy == ty) {\n",
    "    System.out.println(path);\n",
    "  } else if (cx <= tx && cy <= ty) {\n",
    "    search(cx, cy+1, tx, ty, path + \"N \");\n",
    "    search(cx+1, cy, tx, ty, path + \"E \");\n",
    "    search(cx+1, cy+1, tx, ty, path + \"NE \");\n",
    "  }\n",
    "}\n",
    "\n",
    "// sanity check\n",
    "search(0, 0, 2, 2, \"\");"
   ]
  },
  {
   "cell_type": "markdown",
   "metadata": {},
   "source": [
    "## Practices\n",
    "\n",
    "Based on the above content and knowledge covered in lectures, you should be able to solve the following listed problems. Please note that **you are strongly recommended to solve the problems by yourself first before you look at the provided solutions**."
   ]
  },
  {
   "cell_type": "markdown",
   "metadata": {},
   "source": [
    "Given a digit string, print all possible letter combinations that the number could represent.\n",
    "\n",
    "A mapping of digit to letters (just like on the telephone buttons) is given below."
   ]
  },
  {
   "cell_type": "code",
   "execution_count": 7,
   "metadata": {},
   "outputs": [
    {
     "name": "stdout",
     "output_type": "stream",
     "text": [
      "ad\n",
      "ae\n",
      "af\n",
      "bd\n",
      "be\n",
      "bf\n",
      "cd\n",
      "ce\n",
      "cf\n"
     ]
    }
   ],
   "source": [
    "public String[] letters = {\"\", \"\", \"abc\", \"def\", \"ghi\", \"jkl\", \"mno\", \"pqrs\", \"tuv\", \"wxyz\"};\n",
    "\n",
    "public void combination(String digits, String path) {\n",
    "  if (digits.length() == 0) {\n",
    "    System.out.println(path);\n",
    "  } else if (digits.length() > 0) {\n",
    "    int index = Character.getNumericValue(digits.charAt(0));\n",
    "    if (index == 0 || index == 1) {\n",
    "       combination(digits.substring(1), path);\n",
    "    } else {\n",
    "       for (int i = 0; i < letters[index].length(); i++) {\n",
    "          char c = letters[index].charAt(i);\n",
    "          combination(digits.substring(1), path+c);\n",
    "       }\n",
    "    }\n",
    "  }\n",
    "}\n",
    "\n",
    "// sanity check\n",
    "combination(\"23\", \"\");"
   ]
  },
  {
   "cell_type": "markdown",
   "metadata": {},
   "source": [
    "### Section 2.1 More backtracking\n",
    "\n",
    "Many backtracking problems can get more complicated than the ones that were presented here, especially when the problem space is limited and you need to undo the choice you made previously. The template presented in previous section also needs to be updated:\n",
    "\n",
    "```\n",
    "public void search(a scenario) {\n",
    "  if (this is a solution) {\n",
    "    report it;\n",
    "  } else {\n",
    "    for (each available choice) {\n",
    "      if (this is not a dead-end) {\n",
    "         make the choice;\n",
    "         recursively search subsequent choices;\n",
    "         undo the choice;\n",
    "      }\n",
    "    }\n",
    "  }\n",
    "}\n",
    "```\n",
    "\n",
    "A good example of such backtracking problems can be found at https://en.wikipedia.org/wiki/Eight_queens_puzzle."
   ]
  }
 ],
 "metadata": {
  "kernelspec": {
   "display_name": "Java",
   "language": "java",
   "name": "java"
  },
  "language_info": {
   "codemirror_mode": "java",
   "file_extension": ".jshell",
   "mimetype": "text/x-java-source",
   "name": "Java",
   "pygments_lexer": "java",
   "version": "12.0.2+10"
  }
 },
 "nbformat": 4,
 "nbformat_minor": 2
}
