{
 "cells": [
  {
   "cell_type": "markdown",
   "metadata": {},
   "source": [
    "# Stack\n",
    "\n",
    "This chapter will cover the basics of stack.\n",
    "\n",
    "Let's import the necessary libraries for our code to run."
   ]
  },
  {
   "cell_type": "code",
   "execution_count": 6,
   "metadata": {},
   "outputs": [],
   "source": [
    "import java.util.*;\n",
    "import java.io.*;"
   ]
  },
  {
   "cell_type": "markdown",
   "metadata": {},
   "source": [
    "## Section 1. The Basics of Stack\n",
    "\n",
    "A stack is a collection based on the principle of adding elements and retrieving them in the opposite order.\n",
    "\n",
    "- Last-In, First-Out (\"LIFO\")\n",
    "- The elements are stored in order of insertion, but we do not think of them as having indexes.\n",
    "- The client can only add/remove/examine the last element added (the \"top\" of the stack).\n",
    "\n",
    "An example of how a stack is operated can be thought of as a stack of plates: You need to pile one plate on top of another to make a pile when you organize all plates you have. When you need to use plates, you always pull the plate on top of the pile.\n",
    "\n",
    "Basic Stack Operations:\n",
    "- push: Add an elemnt to the top\n",
    "- pop: Remove the top element\n",
    "- peek: Return the top element\n",
    "- isEmpty: Check if empty or not\n",
    "- size: Check the size of the stack\n",
    "\n",
    "<img src=\"images/stack.png\" alt=\"index\" width=\"300\"/>"
   ]
  },
  {
   "cell_type": "markdown",
   "metadata": {},
   "source": [
    "### Section 1.1 How do you use Stack?\n",
    "\n",
    "To initialize a stack variable in Java, you need to start with:\n",
    "\n",
    "```\n",
    "Stack <base_type> nameStack = new Stack <base_type>(); \n",
    "```\n",
    "It is worth noting that the base type has to be a reference data type. If you are thinking of using a primitive data type, you have to use the reference data type it corresponds to:\n",
    "\n",
    " - int     ->  Integer\n",
    " - double  ->  Double\n",
    " - char    ->  Character\n",
    " - boolean ->  Boolean\n",
    " \n",
    "The conversion between a primitive data type and the reference data type it corresponds to is seamless. FOr instance, the conversion between int and Integer is as the followings:\n",
    "\n",
    "```\n",
    "int a = 20;\n",
    "Integer i = Integer.valueOf(a); //converting\n",
    "Integer j = a; //auto-boxing\n",
    "int b = j; //auto-unboxing\n",
    "```\n",
    "\n",
    "A demonstration of usin stack is:\n",
    "\n",
    "```\n",
    "Stack<Integer> stack = new Stack<Integer>();\n",
    "stack.push(1); // stack: 1\n",
    "stack.push(2); // stack: 1, 2\n",
    "stack.push(3); // stack: 1, 2, 3\n",
    "stack.push(4); // stack: 1, 2, 3, 4\n",
    "stack.push();  // return 4; stack: 1, 2, 3, 4\n",
    "stack.pop();   // return 4; stack: 1, 2, 3 (Removed 4)\n",
    "stack.isEmpty(); //return false; stack: 1, 2, 3\n",
    "```"
   ]
  },
  {
   "cell_type": "markdown",
   "metadata": {},
   "source": [
    "### Section 1.2 When do you use Stack?\n",
    "\n",
    "when you want to get stored elements out in the reverse order than you put them in, Stack may be a good candidate. This can be learnt from the following practices."
   ]
  },
  {
   "cell_type": "markdown",
   "metadata": {},
   "source": [
    "## Practices\n",
    "\n",
    "Based on the above content and knowledge covered in lectures, you should be able to solve the following listed problems. Please note that **you are strongly recommended to solve the problems by yourself first before you look at the provided solutions**."
   ]
  },
  {
   "cell_type": "markdown",
   "metadata": {},
   "source": [
    "#### Valid brackets\n",
    "\n",
    "Given a string containing ust the characters '(' and ')'. Determine if the input string is valid. For a string to be valid, there must be the same amount of opening brackets to closing brackets and they have to be in correct order.\n",
    "- \"()\" and \"()()()\" are valid\n",
    "- \"((())())\" is also valid\n",
    "- \")(\" and \"(()\" are not valid"
   ]
  },
  {
   "cell_type": "code",
   "execution_count": 19,
   "metadata": {},
   "outputs": [
    {
     "data": {
      "text/plain": [
       "false"
      ]
     },
     "execution_count": 19,
     "metadata": {},
     "output_type": "execute_result"
    }
   ],
   "source": [
    "public boolean isValid(String s) {\n",
    "    Stack<Character> st = new Stack<Character>();\n",
    "    for (char c: s.toCharArray()) {\n",
    "        if (c == '(') {\n",
    "            st.push(c);\n",
    "        } else if (c == ')' && !st.isEmpty() && st.peek() == '(') {\n",
    "            st.pop();\n",
    "        } else {\n",
    "            return false;\n",
    "        }\n",
    "    }\n",
    "    \n",
    "    if (st.isEmpty()) return true;\n",
    "    else return false;\n",
    "}\n",
    "                   \n",
    "// sanity check\n",
    "isValid(\"((())()))\");"
   ]
  },
  {
   "cell_type": "markdown",
   "metadata": {},
   "source": [
    "#### Reverse Polish Notation\n",
    "\n",
    "Given an array of tokens that could be of operations and numbers, evaluate the value of the arithmetic expression in reverse polish notation.\n",
    "\n",
    "Valid operations are +, -, /, *.\n",
    "\n",
    "Each of the opreands may be an integer or another expression.\n",
    "\n",
    "Some examples:\n",
    "- [\"2\", \"1\", \"+\", \"3\", \"*\"] -> ((2 + 1) * 3) -> 9\n",
    "- [\"4\", \"13\", \"5\", \"/\", \"+\"] -> (4 + 13 / 5)) -> 6"
   ]
  },
  {
   "cell_type": "code",
   "execution_count": 26,
   "metadata": {},
   "outputs": [
    {
     "data": {
      "text/plain": [
       "9"
      ]
     },
     "execution_count": 26,
     "metadata": {},
     "output_type": "execute_result"
    }
   ],
   "source": [
    "public int evalRPN(String[] tokens) {\n",
    "    Stack<String> st = new Stack<String>();\n",
    "    int result;\n",
    "    for (String str:tokens){\n",
    "        if (isNumeric(str)) {\n",
    "            st.push(str);\n",
    "        } else if (str.equals(\"+\")) {\n",
    "            int right = Integer.parseInt(st.pop());\n",
    "            int left = Integer.parseInt(st.pop());\n",
    "            result = left + right;\n",
    "            st.push(\"\" + result);\n",
    "        } else if (str.equals(\"-\")) {\n",
    "            int right = Integer.parseInt(st.pop());\n",
    "            int left = Integer.parseInt(st.pop());\n",
    "            result = left - right;\n",
    "            st.push(\"\" + result);\n",
    "        } else if (str.equals(\"*\")) {\n",
    "            int right = Integer.parseInt(st.pop());\n",
    "            int left = Integer.parseInt(st.pop());\n",
    "            result = left * right;\n",
    "            st.push(\"\" + result);\n",
    "        } else {\n",
    "            int right = Integer.parseInt(st.pop());\n",
    "            int left = Integer.parseInt(st.pop());\n",
    "            result = left / right;\n",
    "            st.push(\"\" + result);\n",
    "        }\n",
    "    }\n",
    "    return Integer.parseInt(st.pop());\n",
    "}\n",
    "\n",
    "public static boolean isNumeric(String strNum) {\n",
    "    try {\n",
    "        int d = Integer.parseInt(strNum);\n",
    "    } catch (NumberFormatException | NullPointerException nfe) {\n",
    "        return false;\n",
    "    }\n",
    "    return true;\n",
    "}\n",
    "\n",
    "// sanity check\n",
    "String[] arr = {\"2\", \"1\", \"+\", \"3\", \"*\"};\n",
    "evalRPN(arr);"
   ]
  }
 ],
 "metadata": {
  "kernelspec": {
   "display_name": "Java",
   "language": "java",
   "name": "java"
  },
  "language_info": {
   "codemirror_mode": "java",
   "file_extension": ".jshell",
   "mimetype": "text/x-java-source",
   "name": "Java",
   "pygments_lexer": "java",
   "version": "12.0.2+10"
  }
 },
 "nbformat": 4,
 "nbformat_minor": 2
}
