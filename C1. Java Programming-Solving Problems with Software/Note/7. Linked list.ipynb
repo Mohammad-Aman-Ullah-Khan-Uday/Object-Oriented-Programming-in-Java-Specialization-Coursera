{
 "cells": [
  {
   "cell_type": "markdown",
   "metadata": {},
   "source": [
    "# Linked List"
   ]
  },
  {
   "cell_type": "markdown",
   "metadata": {},
   "source": [
    "- Delete the head\n",
    "- Delete in the middle\n",
    "- Delete the tail\n",
    "- Insert at the beginning\n",
    "- Insert in the middle\n",
    "- Insert at the end"
   ]
  },
  {
   "cell_type": "markdown",
   "metadata": {},
   "source": [
    "## Linked Node"
   ]
  },
  {
   "cell_type": "code",
   "execution_count": 1,
   "metadata": {},
   "outputs": [],
   "source": [
    "public class ListNode {\n",
    "    int data;\n",
    "    ListNode next = null;\n",
    "    \n",
    "    ListNode(int val) {\n",
    "        data = val;\n",
    "    }\n",
    "}"
   ]
  },
  {
   "cell_type": "markdown",
   "metadata": {},
   "source": [
    "## Delete the Head"
   ]
  },
  {
   "cell_type": "markdown",
   "metadata": {},
   "source": [
    "What set of statements turns:\n",
    "    \n",
    "    list = [10, 30, 20]\n",
    "\n",
    "into...\n",
    "\n",
    "    list = [30, 20]"
   ]
  },
  {
   "cell_type": "code",
   "execution_count": 4,
   "metadata": {},
   "outputs": [],
   "source": [
    "public class ListNode {\n",
    "    int data;\n",
    "    ListNode next = null;\n",
    "    \n",
    "    ListNode(int val) {\n",
    "        data = val;\n",
    "        list = list.next;\n",
    "    }\n",
    "}\n"
   ]
  },
  {
   "cell_type": "markdown",
   "metadata": {},
   "source": [
    "### Insert at the beginning\n",
    "What turns:\n",
    "\n",
    "    list = [10, 20]\n",
    "\n",
    "into...\n",
    "\n",
    "    list = [30, 10, 20]"
   ]
  },
  {
   "cell_type": "markdown",
   "metadata": {},
   "source": [
    "## Practice"
   ]
  },
  {
   "cell_type": "markdown",
   "metadata": {},
   "source": [
    "## Deleting duplicates in a list\n",
    "\n",
    "Given a sorted linked list, delete all duplicates such that each element appear only once.\n",
    "\n",
    "For example,\n",
    "- Given: 1 -> 1 > 2\n",
    "- Return: 1 -> 2\n",
    "\n",
    "\n",
    "- Given: 1 -> 1 -> 2 -> 3 -> 3 ->\n",
    "- Return: 1-> 2 -> 3"
   ]
  },
  {
   "cell_type": "code",
   "execution_count": 5,
   "metadata": {},
   "outputs": [],
   "source": [
    "public ListNode plusOne(ListNode head) {\n",
    "    ListNode headReverse = reverseList(head);\n",
    "    ListNode cur = headReverse;\n",
    "    int extra = 0;\n",
    "    while (cur != null){\n",
    "        cur.data = cur.data + 1 + extra;\n",
    "        if (cur.data >= 10) {\n",
    "            cur.data = cur.data - 10;\n",
    "            extra = 1;\n",
    "        } else {\n",
    "            extra = 0;\n",
    "        }\n",
    "        cur = cur.next;\n",
    "    }\n",
    "    if (extra > 0) {\n",
    "        cur.next = new ListNode(extra);\n",
    "    }\n",
    "    return reverseList(headReverse);\n",
    "}"
   ]
  },
  {
   "cell_type": "code",
   "execution_count": null,
   "metadata": {},
   "outputs": [],
   "source": []
  }
 ],
 "metadata": {
  "kernelspec": {
   "display_name": "Java",
   "language": "java",
   "name": "java"
  },
  "language_info": {
   "codemirror_mode": "java",
   "file_extension": ".jshell",
   "mimetype": "text/x-java-source",
   "name": "Java",
   "pygments_lexer": "java",
   "version": "12.0.2+10"
  }
 },
 "nbformat": 4,
 "nbformat_minor": 2
}
