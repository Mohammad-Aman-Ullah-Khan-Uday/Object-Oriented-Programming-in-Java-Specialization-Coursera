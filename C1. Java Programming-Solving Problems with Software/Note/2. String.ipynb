{
 "cells": [
  {
   "cell_type": "markdown",
   "metadata": {},
   "source": [
    "# Strings"
   ]
  },
  {
   "cell_type": "markdown",
   "metadata": {},
   "source": [
    "This chapter will cover the basics of String and how to use String to solve problems.\n",
    "\n",
    "Let's import the necessary libraries for our code to run."
   ]
  },
  {
   "cell_type": "code",
   "execution_count": 1,
   "metadata": {},
   "outputs": [],
   "source": [
    "import java.util.*;"
   ]
  },
  {
   "cell_type": "markdown",
   "metadata": {},
   "source": [
    "## Section 1. The basics of String\n",
    "\n",
    "As is briefly covered in Chapter 1, data that do not belong to primitive data types are considered reference data. There are eight primitive data types, including:\n",
    "\n",
    "* byte\n",
    "* short\n",
    "* int\n",
    "* long\n",
    "* float\n",
    "* double\n",
    "* char\n",
    "* boolean\n",
    "\n",
    "String is considered a reference data type. As a result, the conventional way of initializing and declaring a string variable would be:\n",
    "\n",
    "```\n",
    "String s = new String(\"Hello world\");\n",
    "System.out.println(s); // Hello world\n",
    "```\n",
    "\n",
    "If you initialize a String variable without declaring it, it will default to null. Note that null stands for \"having no value at all\", which is different from an empty string \"\", which is a string with no characters in it.\n",
    "\n",
    "```\n",
    "String s;\n",
    "System.out.println(s); // null\n",
    "\n",
    "String s = new String(\"\");\n",
    "System.out.println(s); // noting to print - empty string\n",
    "```\n",
    "\n",
    "An initialized and declared string should be treated as a single immutable item. In other words, once a string is created, it can not be changed or partially updated. However, a string is also a sequence of characters (data type char). For instance, given a string \"Java is fun.\", the indexes corresponding to the characters are:\n",
    "\n",
    "<img src=\"images/indexes.png\" alt=\"index\" width=\"500\"/>\n",
    "\n",
    "To access the characters in this string, you can use the method charAt:\n",
    "\n",
    "```\n",
    "String str = \"Java is fun.\";\n",
    "System.out.println(str.charAt(8)); // f\n",
    "\n",
    "```\n",
    "\n",
    "Please note that charAt accepts an integer as the only parameter, which stands for the index of character you want to access. It returns a char at the specified index.\n",
    "\n",
    "Please also note that the method charAt is accessed by concatenating the defined string variable named \"str\" and the method \"charAt\" with a dot. This is what we call the dot notation. Java uses dot notation to access methods and fields defined underneath a class. In our example, you can think that String is a class defined in Java library, and charAt is a public method defined underneath String class. To access charAt, you need to have an initialized and declared String variable (e.g., str) first. After that, you can access the method by saying str.charAt(...). The same can be said for \"System.out.println()\": System is a class in the java.lang package . The out is a static member of the System class, and is an instance of java.io.PrintStream . The println is a method of java.io.PrintStream (*I certainly know this souds crazy*).\n",
    "\n",
    "The above code snippets are listed in the following code cell. You are welcome to try them out and change the parameter values, and you may need to comment out some lines to get a clear sense of the ones you want to study."
   ]
  },
  {
   "cell_type": "code",
   "execution_count": 2,
   "metadata": {},
   "outputs": [
    {
     "name": "stdout",
     "output_type": "stream",
     "text": [
      "Hello world\n",
      "null\n",
      "\n",
      "f\n",
      "J\n"
     ]
    }
   ],
   "source": [
    "// section 1\n",
    "String s = new String(\"Hello world\");\n",
    "System.out.println(s); // Hello world\n",
    "\n",
    "// section 2\n",
    "String s;\n",
    "System.out.println(s); // null\n",
    "s = new String(\"\");\n",
    "System.out.println(s); // noting to print - empty string\n",
    "\n",
    "// section 3\n",
    "String str = new String(\"Java is fun.\");\n",
    "System.out.println(str.charAt(8)); // f\n",
    "System.out.println(str.charAt(0)); // J"
   ]
  },
  {
   "cell_type": "markdown",
   "metadata": {},
   "source": [
    "## Section 2. Three Important Methods\n",
    "\n",
    "Three most commonly used string methods include:\n",
    "\n",
    "* length\n",
    "* +\n",
    "* equals\n",
    "\n",
    "\"length\" method is used to get the length of a Java String. The string length method returns the number of characters written in the String. When you traverse a string character by character, this method is often used as the cap for the iterator:\n",
    "\n",
    "```\n",
    "String str = new String(\"Java is fun.\");\n",
    "for (int i = 0; i < str.length(); i++) {\n",
    "    System.out.println(str.charAt(i)); // print characters line by line\n",
    "}\n",
    "System.out.println();\n",
    "```\n",
    "\n",
    "Please note that there is a bracket that follows \".length\", which is different from many other linear data structures (e.g., array). This is an unfortunate inconsistency in Java. You will get used to it given some time.\n",
    "\n",
    "\"+\" method is used to concatenate a string with another item of any data types and returns the concatenated item as another string. \"+\" is used a lot when you have dynamically changed stuff to print:\n",
    "\n",
    "```\n",
    "for (int i = 0; i < 3; i++) {\n",
    "    System.out.println(\"Output number: \" + i); // Output number: x\n",
    "}\n",
    "System.out.println();\n",
    "```\n",
    "\n",
    "\"equals\" is used to check the value equivalence of two given strings. String is a reference data type. When you initialize and declare a reference object (e.g., String str), its variable name and the actual objects are stored in different places in the memory of a computer. They are connected through a link we call pointer. In the contexts of String (as a reference data type), \"==\" is used for reference comparison (whether they are the same objects), while .equals() is used for content comparison (whether two objects have the same content). For instance, you can make two string variables with exactly the same values, but they would actually be two different objects:\n",
    "\n",
    "```\n",
    "String s = new String(\"Hello world\");\n",
    "String t = new String(\"Hello world\");\n",
    "System.out.println(s == t); // return false\n",
    "System.out.println(s.equals(t)); // return true\n",
    "```\n",
    "\n",
    "The above code snippets are listed in the following code cell. You are welcome to try them out and change the parameter values, and you may need to comment out some lines to get a clear sense of the ones you want to study."
   ]
  },
  {
   "cell_type": "code",
   "execution_count": 3,
   "metadata": {},
   "outputs": [
    {
     "name": "stdout",
     "output_type": "stream",
     "text": [
      "J\n",
      "a\n",
      "v\n",
      "a\n",
      " \n",
      "i\n",
      "s\n",
      " \n",
      "f\n",
      "u\n",
      "n\n",
      ".\n",
      "\n",
      "Output number: 0\n",
      "Output number: 1\n",
      "Output number: 2\n",
      "\n",
      "false\n",
      "true\n"
     ]
    }
   ],
   "source": [
    "// section 1\n",
    "String str = new String(\"Java is fun.\");\n",
    "for (int i = 0; i < str.length(); i++) {\n",
    "    System.out.println(str.charAt(i));\n",
    "}\n",
    "System.out.println();\n",
    "\n",
    "// section 2\n",
    "for (int i = 0; i < 3; i++) {\n",
    "    System.out.println(\"Output number: \" + i); // Output number: x\n",
    "}\n",
    "System.out.println();\n",
    "\n",
    "// section 3\n",
    "String s = new String(\"Hello world\");\n",
    "String t = new String(\"Hello world\");\n",
    "System.out.println(s == t); // return false\n",
    "System.out.println(s.equals(t)); // return true"
   ]
  },
  {
   "cell_type": "markdown",
   "metadata": {},
   "source": [
    "## Section 3. String Literals\n",
    "\n",
    "You might notice that you can actually declare a string object without explicitly creating a new object:\n",
    "\n",
    "```\n",
    "String str = \"Java is fun.\";\n",
    "```\n",
    "\n",
    "This is called String Literals and special to Java. String literal works in a different way in terms of whether a new object will be created in the process. When you declare string like this, you are actually calling intern() method on String. In short, if you use String literals to decalre a string variable (e.g., str2 with value of \"Hello\"), Java will be checking if there's already a string variable with the same value (e.g., str1 with value of \"Hello\"). If there is, str2 will reference that string object and no new String object will be created. This has some impacts on equivalance checking:\n",
    "\n",
    "```\n",
    "// wihtout string literals\n",
    "String s = new String(\"Hello world\");\n",
    "String t = new String(\"Hello world\");\n",
    "System.out.println(s == t); // return false\n",
    "System.out.println(s.equals(t)); // return true\n",
    "\n",
    "// wiht string literals\n",
    "String s = \"Hello world\";\n",
    "String t = \"Hello world\";\n",
    "System.out.println(s == t); // return true\n",
    "System.out.println(s.equals(t)); // return true\n",
    "```\n",
    "\n",
    "The above code snippets are listed in the following code cell. You are welcome to try them out and change the parameter values, and you may need to comment out some lines to get a clear sense of the ones you want to study."
   ]
  },
  {
   "cell_type": "code",
   "execution_count": 4,
   "metadata": {},
   "outputs": [
    {
     "name": "stdout",
     "output_type": "stream",
     "text": [
      "false\n",
      "true\n",
      "true\n",
      "true\n"
     ]
    }
   ],
   "source": [
    "// wihtout string literals\n",
    "String s = new String(\"Hello world\");\n",
    "String t = new String(\"Hello world\");\n",
    "System.out.println(s == t); // return false\n",
    "System.out.println(s.equals(t)); // return true\n",
    "\n",
    "// wiht string literals\n",
    "String s = \"Hello world\";\n",
    "String t = \"Hello world\";\n",
    "System.out.println(s == t); // return true\n",
    "System.out.println(s.equals(t)); // return true"
   ]
  },
  {
   "cell_type": "markdown",
   "metadata": {},
   "source": [
    "## Practices\n",
    "\n",
    "Based on the above content and knowledge covered in lectures, you should be able to solve the following listed problems. Please note that **you are strongly recommended to solve the problems by yourself first before you look at the provided solutions**."
   ]
  },
  {
   "cell_type": "markdown",
   "metadata": {},
   "source": [
    "#### String Comparision\n",
    "\n",
    "Suppose we have two Strings s and t given by a user, wher each String contains at least one character. Write a program that returns if s and t are equal (case sensitive). Please do not use equals or other eqivalence checking methods. *You can safely assume that both s and t have been declared*\n",
    "\n",
    "The code skeleton has been provided and you have to use it.\n",
    "\n",
    "```\n",
    "public boolean checkEquals(String s, String t) {\n",
    "    // ...\n",
    "}\n",
    "```"
   ]
  },
  {
   "cell_type": "code",
   "execution_count": 5,
   "metadata": {},
   "outputs": [
    {
     "name": "stdout",
     "output_type": "stream",
     "text": [
      "false\n",
      "true\n"
     ]
    }
   ],
   "source": [
    "public boolean checkEquals(String s, String t) {\n",
    "    //different length\n",
    "    if (s.length() != t.length()) return false;\n",
    "    \n",
    "    //same length\n",
    "    for (int i = 0; i < s.length(); i++) {\n",
    "        if (s.charAt(i) != t.charAt(i)) {\n",
    "            return false;\n",
    "        }\n",
    "    }\n",
    "    return true;\n",
    "}\n",
    "\n",
    "// test\n",
    "System.out.println(checkEquals(\"Hello\", \"cat\"));\n",
    "System.out.println(checkEquals(\"Hello\", \"Hello\"));"
   ]
  },
  {
   "cell_type": "markdown",
   "metadata": {},
   "source": [
    "## Section 4. Scanner\n",
    "\n",
    "Scanner is a class in java.util package for obtaining input either from a user or a file. It is frequently associated with String in terms of processing input from users. Scanner is a reference data type, so its initialization and declaration will be the same as other reference data types:\n",
    "\n",
    "```\n",
    "Scanner sc = new Scanner(System.in);\n",
    "```\n",
    "\n",
    "A scanner object can be used to obtain inputs of various data types, and has a set of corresponding methods to read different data types:\n",
    "\n",
    "* .nextInt(): read an int from the user\n",
    "* .nextDouble(): read a double from the user\n",
    "* .next(): read the next token as a String from the user\n",
    "* .nextLine(): read the next line of input as a String from the user\n",
    "\n",
    "A common usage case of Scanner could be:\n",
    "\n",
    "```\n",
    "Scanner sc = new Scanner(System.in);\n",
    "System.out.println(\"What is your name?\");\n",
    "String name = sc.nextLine();\n",
    "System.out.println(\"Hello \" + name);\n",
    "```\n",
    "\n",
    "An improved usage case could be:\n",
    "```\n",
    "Scanner sc = new Scanner(System.in);\n",
    "String name = sc.nextLine();\n",
    "System.out.println(\"Hello \" + name + \".\");\n",
    "System.out.println(\"Which date do you want to meet?\");\n",
    "int date = sc.nextInt();\n",
    "System.out.println(\"Let's meet at the date of \" + date + \".\");\n",
    "```\n",
    "\n",
    "The above code snippets are listed in the following code cell. You are welcome to try them out and change the parameter values, and you may need to comment out some lines to get a clear sense of the ones you want to study."
   ]
  },
  {
   "cell_type": "code",
   "execution_count": 6,
   "metadata": {},
   "outputs": [
    {
     "name": "stdout",
     "output_type": "stream",
     "text": [
      "cat\n",
      "Hello cat.\n",
      "Which date do you want to meet?\n",
      "15\n",
      "Let's meet at the date of 15.\n"
     ]
    }
   ],
   "source": [
    "// // case 1\n",
    "// Scanner sc = new Scanner(System.in);\n",
    "// System.out.println(\"What is your name?\");\n",
    "// String name = sc.nextLine();\n",
    "// System.out.println(\"Hello \" + name);\n",
    "\n",
    "// case 2\n",
    "Scanner sc = new Scanner(System.in);\n",
    "String name = sc.nextLine();\n",
    "System.out.println(\"Hello \" + name + \".\");\n",
    "System.out.println(\"Which date do you want to meet?\");\n",
    "int date = sc.nextInt();\n",
    "System.out.println(\"Let's meet at the date of \" + date + \".\");"
   ]
  },
  {
   "cell_type": "markdown",
   "metadata": {},
   "source": [
    "## Practices\n",
    "\n",
    "Based on the above content and knowledge covered in lectures, you should be able to solve the following listed problems. Please note that **you are strongly recommended to solve the problems by yourself first before you look at the provided solutions**."
   ]
  },
  {
   "cell_type": "markdown",
   "metadata": {},
   "source": [
    "#### Manipulation\n",
    "\n",
    "Take a string input from the user. print the input sting in reverse order. For example, if s is \"abcd\", then \"dcba\" should be printed. If there was no input string, print out, \"There was no input to reverse\".\n",
    "\n",
    "The code skeleton has been provided and you have to use it.\n",
    "\n",
    "```\n",
    "public void reversePrint() {\n",
    "    // ...\n",
    "}\n",
    "```"
   ]
  },
  {
   "cell_type": "code",
   "execution_count": 7,
   "metadata": {},
   "outputs": [
    {
     "name": "stdout",
     "output_type": "stream",
     "text": [
      "Please input your string\n",
      "hello world\n",
      "dlrow olleh\n"
     ]
    }
   ],
   "source": [
    "public void reversePrint() {\n",
    "    //friendly info for users \n",
    "    System.out.println(\"Please input your string\");\n",
    "    \n",
    "    //Scanner\n",
    "    Scanner sc = new Scanner(System.in);\n",
    "    String str = sc.nextLine();\n",
    "    \n",
    "    //no string to reverse\n",
    "    if (str == null || str.length() == 0) {\n",
    "        System.out.println(\"There was no input to reverse\");\n",
    "        System.exit(0);\n",
    "    }\n",
    "    \n",
    "    //there is a string to reverse\n",
    "    String output = \"\";\n",
    "    for (int i = str.length()-1; i >= 0; i--) {\n",
    "        output += str.charAt(i);\n",
    "    }\n",
    "    System.out.println(output);\n",
    "}\n",
    "\n",
    "// test\n",
    "reversePrint();"
   ]
  },
  {
   "cell_type": "markdown",
   "metadata": {},
   "source": [
    "#### A simple log-in system\n",
    "\n",
    "Code a simple log-in system:\n",
    "- Assume the password is set as a string \"111\".\n",
    "- Ask users to put in password by printing out \"What is your password?\"\n",
    "- If the user fails to provide the right password print \"Wrong password\", and repeat the above step. Otherwise, print out \"welcome, user\" and end the program\n",
    "- If the user enters \"quit\", end the progrma immediately\n",
    "\n",
    "The code skeleton has been provided and you have to use it.\n",
    "\n",
    "```\n",
    "private String ps = \"111\";\n",
    "public void logIn() {\n",
    "    // ...\n",
    "}\n",
    "```"
   ]
  },
  {
   "cell_type": "code",
   "execution_count": 8,
   "metadata": {},
   "outputs": [
    {
     "name": "stdout",
     "output_type": "stream",
     "text": [
      "What is your password\n",
      "112\n",
      "Wrong password\n",
      "What is your password\n",
      "111\n",
      "Welcome, user\n"
     ]
    }
   ],
   "source": [
    "private String ps = \"111\";\n",
    "public void logIn() {\n",
    "    //define scanner and userPassword\n",
    "    Scanner sc = new Scanner(System.in);\n",
    "    String userPass;\n",
    "\n",
    "    // log in  system start\n",
    "    while (true){\n",
    "        //ask password\n",
    "        System.out.println(\"What is your password\");\n",
    "        userPass = sc.nextLine();\n",
    "\n",
    "        // check against ps\n",
    "        if (ps.equals(userPass)) {\n",
    "            break;\n",
    "        } else if (userPass.equals(\"quit\")) {\n",
    "            System.out.println(\"As you wish\");\n",
    "            System.exit(0);\n",
    "        } else {\n",
    "            System.out.println(\"Wrong password\");\n",
    "        }\n",
    "    }\n",
    "    //welcome\n",
    "    System.out.println(\"Welcome, user\");\n",
    "}\n",
    "\n",
    "// test\n",
    "logIn();"
   ]
  },
  {
   "cell_type": "markdown",
   "metadata": {},
   "source": [
    "#### Number of lowercases\n",
    "\n",
    "Input: Sting s taken from users\n",
    "Output: The number of English lowercase letters in s\n",
    "\n",
    "Examples:\n",
    "- Enter a String s: BanAnA\n",
    "- Output: BanAnA has 3 lowercase letters\n",
    "\n",
    "\n",
    "- Enter a String s: ABcdefGHi123;\n",
    "- Output: ABcdefGHi123 has 5 lowercase letters\n",
    "\n",
    "The code skeleton has been provided and you have to use it.\n",
    "\n",
    "```\n",
    "public void countLowercase() {\n",
    "    // ...\n",
    "}\n",
    "```"
   ]
  },
  {
   "cell_type": "code",
   "execution_count": 9,
   "metadata": {},
   "outputs": [
    {
     "name": "stdout",
     "output_type": "stream",
     "text": [
      "Please input a string\n",
      "ABcdefGHi123\n",
      "ABcdefGHi123 has 5 lowercase letter(s).\n"
     ]
    }
   ],
   "source": [
    "public void countLowercase() {\n",
    "    //get the string from users\n",
    "    System.out.println(\"Please input a string\");\n",
    "    Scanner sc = new Scanner(System.in);\n",
    "    String s = sc.nextLine();\n",
    "\n",
    "    //count lowercase letters\n",
    "    int count = 0;\n",
    "    for (int i = 0; i < s.length(); i++) {\n",
    "        char c = s.charAt(i);\n",
    "        if (Character.isLetter(c) && Character.isLowerCase(c)) {\n",
    "            count += 1;\n",
    "        }\n",
    "    }\n",
    "\n",
    "    //print result\n",
    "    System.out.println(s + \" has \" + count + \" lowercase letter(s).\");\n",
    "}\n",
    "\n",
    "// test\n",
    "countLowercase();"
   ]
  }
 ],
 "metadata": {
  "kernelspec": {
   "display_name": "Java",
   "language": "java",
   "name": "java"
  },
  "language_info": {
   "codemirror_mode": "java",
   "file_extension": ".jshell",
   "mimetype": "text/x-java-source",
   "name": "Java",
   "pygments_lexer": "java",
   "version": "12.0.2+10"
  }
 },
 "nbformat": 4,
 "nbformat_minor": 2
}
