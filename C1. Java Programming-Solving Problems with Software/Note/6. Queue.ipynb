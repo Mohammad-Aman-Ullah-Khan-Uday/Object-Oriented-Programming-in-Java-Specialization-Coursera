{
 "cells": [
  {
   "cell_type": "markdown",
   "metadata": {},
   "source": [
    "# Queue\n",
    "\n",
    "This chapter will cover the basics of queue.\n",
    "\n",
    "Let's import the necessary libraries for our code to run."
   ]
  },
  {
   "cell_type": "code",
   "execution_count": 1,
   "metadata": {},
   "outputs": [],
   "source": [
    "import java.util.*;"
   ]
  },
  {
   "cell_type": "markdown",
   "metadata": {},
   "source": [
    "## Section 1. The Basics of Queue\n",
    "\n",
    "A queue is a collection based on the principle of adding elements and retrieving them in the same order.\n",
    "\n",
    "- First-In, First-Out (\"FIFO\")\n",
    "- The elements are stored in order of insertion, but we do not think of them as having indexes.\n",
    "- The client can only add/remove/examine the last element added (the \"top\" of the stack).\n",
    "\n",
    "How a queue is operated can be explained as a pipe: Elements go into the queue from one end and out from the other, first in first out.\n",
    "\n",
    "Basic Stack Operations:\n",
    "- add: Add an elemnt to the bottom\n",
    "- remove: Remove the top element\n",
    "- peek: Return the top element\n",
    "- isEmpty: Check if empty or not\n",
    "- size: Check the size of the queue\n",
    "\n",
    "<img src=\"images/queue.png\" alt=\"index\" width=\"300\"/>"
   ]
  },
  {
   "cell_type": "markdown",
   "metadata": {},
   "source": [
    "### Section 1.1 How do you use Queue?\n",
    "\n",
    "There are three classes implemented in Java that you can use for queues, including:\n",
    "\n",
    "* ArrayDeque\n",
    "* LinkedList\n",
    "* PriorityQueue\n",
    "\n",
    "The three classes are based on the same interface Queue. An interface in the Java programming language is an abstract type that is used to specify a behavior that classes must implement. Interfaces are declared using the interface keyword, and only contain method signature and constant declarations.\n",
    "\n",
    "To initialize a queue variable in Java, you have many options. Same as with Stack, you need to put the base data type inside the bracket <>. For instance, if the base data type is Integer, there are 6 ways of initializing a queue variable:\n",
    "\n",
    "```\n",
    "// way 1\n",
    "ArrayDeque<Integer> queue = new ArrayDeque<Integer>();\n",
    "// way 2\n",
    "LinkedList<Integer> queue = new LinkedList<Integer>();\n",
    "// way 3\n",
    "PriorityQueue<Integer> queue = new PriorityQueue<Integer>();\n",
    "// way 4\n",
    "Queue<Integer> queue = new ArrayDeque<Integer>();\n",
    "// way 5\n",
    "Queue<Integer> queue = new LinkedList<Integer>();\n",
    "// way 6\n",
    "Queue<Integer> queue = new PriorityQueue<Integer>();\n",
    "```\n",
    "\n",
    "The first three ways stick strictly to the classes, and may limit the flexibility of your code. Suppose you start with ArrayDeque, and want to change it to PriorityQueue later, you may break your code if you used some methods that are unique to ArrayDeque. The last three ways will make your code more flexible but also limit you to the methods that are only defined underneath Queue interface.\n",
    "\n",
    "The base data type of a queue has to be a reference data type. If you are thinking of using a primitive data type, you have to use the reference data type it corresponds to:\n",
    "\n",
    " - int     ->  Integer\n",
    " - double  ->  Double\n",
    " - char    ->  Character\n",
    " - boolean ->  Boolean\n",
    " \n",
    "The conversion between a primitive data type and the reference data type it corresponds to is seamless. FOr instance, the conversion between int and Integer is as the followings:\n",
    "\n",
    "```\n",
    "int a = 20;\n",
    "Integer i = Integer.valueOf(a); //converting\n",
    "Integer j = a; //auto-boxing\n",
    "int b = j; //auto-unboxing\n",
    "```\n",
    "\n",
    "A demonstration of usin queues is:\n",
    "\n",
    "```\n",
    "Queue<Integer> queue = new ArrayDeque<Integer>();\n",
    "queue.add(0); // q: 0\n",
    "queue.add(1); // q: 0, 1\n",
    "queue.add(2); // q: 0, 1, 2\n",
    "queue.add(3); // q: 0, 1, 2, 3\n",
    "queue.peek(); // return 0; q: 0, 1, 2, 3\n",
    "queue.remove(); // return 0; q: 1, 2, 3\n",
    "queue.isEmpty(); // return false\n",
    "```"
   ]
  },
  {
   "cell_type": "markdown",
   "metadata": {},
   "source": [
    "### Section 1.2 When do you use Queue?\n",
    "\n",
    "when you want to get stored elements out in the normal order than you put them in, Stack may be a good candidate. This can be learnt from the following practices."
   ]
  },
  {
   "cell_type": "markdown",
   "metadata": {},
   "source": [
    "## Practices\n",
    "\n",
    "Based on the above content and knowledge covered in lectures, you should be able to solve the following listed problems. Please note that **you are strongly recommended to solve the problems by yourself first before you look at the provided solutions**."
   ]
  },
  {
   "cell_type": "markdown",
   "metadata": {},
   "source": [
    "#### Moving average\n",
    "\n",
    "Given a stream of integers and a window size, calculate the moving average of all integers in the sliding window.\n",
    "\n",
    "For example,\n",
    "\n",
    "    MovingAverage m = new MovingAverage(3);\n",
    "    m.next(1) -> 1\n",
    "    m.next(10) -> (1 + 10)/2\n",
    "    m.next(3) -> (1 + 10 + 3) / 3\n",
    "    m.next(5) -> (10 + 3 + 5) / 3"
   ]
  },
  {
   "cell_type": "code",
   "execution_count": 3,
   "metadata": {},
   "outputs": [
    {
     "name": "stdout",
     "output_type": "stream",
     "text": [
      "1.0\n",
      "5.5\n",
      "4.666666666666667\n",
      "6.0\n"
     ]
    }
   ],
   "source": [
    "class MovingAverage{\n",
    "    // Initilize your data structure here\n",
    "    private double previousSum = 0.0;\n",
    "    private int maxSize;\n",
    "    private Queue<Integer> currentWindow;\n",
    "\n",
    "    public MovingAverage(int size) {\n",
    "        currentWindow = new ArrayDeque<Integer>();\n",
    "        maxSize = size;\n",
    "    }\n",
    "\n",
    "    public double next(int val) {\n",
    "        if (currentWindow.size() == maxSize) {\n",
    "            previousSum -= currentWindow.remove();\n",
    "        }\n",
    "        previousSum += val;\n",
    "        currentWindow.add(val);\n",
    "        return previousSum / currentWindow.size();\n",
    "    }\n",
    "}\n",
    "\n",
    "// sanity check\n",
    "MovingAverage m = new MovingAverage(3);\n",
    "System.out.println(m.next(1));\n",
    "System.out.println(m.next(10));\n",
    "System.out.println(m.next(3));\n",
    "System.out.println(m.next(5));"
   ]
  }
 ],
 "metadata": {
  "kernelspec": {
   "display_name": "Java",
   "language": "java",
   "name": "java"
  },
  "language_info": {
   "codemirror_mode": "java",
   "file_extension": ".jshell",
   "mimetype": "text/x-java-source",
   "name": "Java",
   "pygments_lexer": "java",
   "version": "12.0.2+10"
  }
 },
 "nbformat": 4,
 "nbformat_minor": 2
}
